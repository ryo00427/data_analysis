{
  "nbformat": 4,
  "nbformat_minor": 0,
  "metadata": {
    "colab": {
      "provenance": [],
      "authorship_tag": "ABX9TyOo82uVsbvawMw2B4dDi1Nn",
      "include_colab_link": true
    },
    "kernelspec": {
      "name": "python3",
      "display_name": "Python 3"
    },
    "language_info": {
      "name": "python"
    }
  },
  "cells": [
    {
      "cell_type": "markdown",
      "metadata": {
        "id": "view-in-github",
        "colab_type": "text"
      },
      "source": [
        "<a href=\"https://colab.research.google.com/github/ryo00427/data_analysis/blob/main/%E5%88%86%E6%9E%90.ipynb\" target=\"_parent\"><img src=\"https://colab.research.google.com/assets/colab-badge.svg\" alt=\"Open In Colab\"/></a>"
      ]
    },
    {
      "cell_type": "code",
      "execution_count": null,
      "metadata": {
        "id": "WBRQOiXytacM"
      },
      "outputs": [],
      "source": [
        "import requests\n",
        "from bs4 import BeautifulSoup as BS\n",
        "import os, csv"
      ]
    },
    {
      "cell_type": "code",
      "source": [],
      "metadata": {
        "id": "OIQor3UMNOfs"
      },
      "execution_count": null,
      "outputs": []
    },
    {
      "cell_type": "code",
      "source": [
        "url = \"https://npb.jp/bis/2024/stats/tmb_c.html\"\n",
        "res = requests.get(url)\n",
        "res.encoding = \"utf-8\"\n",
        "encoding = res.apparent_encoding\n",
        "soup = BS(res.content, \"html.parser\", from_encoding=encoding)"
      ],
      "metadata": {
        "id": "mTyImbDSDotU"
      },
      "execution_count": null,
      "outputs": []
    },
    {
      "cell_type": "code",
      "source": [
        "table = soup.find(\"table\")"
      ],
      "metadata": {
        "id": "mHW0ZLF1E0Dq"
      },
      "execution_count": null,
      "outputs": []
    },
    {
      "cell_type": "code",
      "source": [
        "with open(\"output.csv\", \"w\", newline=\"\", encoding=\"utf-8-sig\") as f:\n",
        "    writer = csv.writer(f)\n",
        "\n",
        "    # ヘッダー取得\n",
        "    headers = []\n",
        "    for th in table.find_all(\"th\"):\n",
        "        text = th.get_text(separator=\"\")\n",
        "        headers.append(text.strip())\n",
        "    writer.writerow(headers)\n",
        "\n",
        "    # データ取得\n",
        "    for row in table.find_all(\"tr\", class_=\"ststats\"):\n",
        "        data = []\n",
        "        for td in row.find_all(\"td\"):\n",
        "            a = td.find(\"a\")\n",
        "            if a:\n",
        "                text = a.get_text(strip=True)\n",
        "            else:\n",
        "                text = td.get_text(strip=True)\n",
        "            data.append(text)\n",
        "        writer.writerow(data)"
      ],
      "metadata": {
        "id": "qbWU_0SoFakz"
      },
      "execution_count": null,
      "outputs": []
    }
  ]
}